{
 "cells": [
  {
   "cell_type": "code",
   "execution_count": 1,
   "id": "fb421d10",
   "metadata": {},
   "outputs": [
    {
     "name": "stdout",
     "output_type": "stream",
     "text": [
      "Python 3.9.12\r\n"
     ]
    }
   ],
   "source": [
    "!python -V"
   ]
  },
  {
   "cell_type": "code",
   "execution_count": 21,
   "id": "fdb309ab",
   "metadata": {},
   "outputs": [],
   "source": [
    "import pandas as pd"
   ]
  },
  {
   "cell_type": "code",
   "execution_count": 22,
   "id": "c488f920",
   "metadata": {},
   "outputs": [],
   "source": [
    "import seaborn as sns\n",
    "import matplotlib.pyplot as plt "
   ]
  },
  {
   "cell_type": "code",
   "execution_count": 30,
   "id": "d543b8ab",
   "metadata": {},
   "outputs": [],
   "source": [
    "from sklearn.feature_extraction import DictVectorizer\n",
    "from sklearn.linear_model import LinearRegression, Lasso, Ridge \n",
    "from sklearn.metrics import mean_squared_error"
   ]
  },
  {
   "cell_type": "code",
   "execution_count": 4,
   "id": "05826aa6",
   "metadata": {},
   "outputs": [
    {
     "name": "stdout",
     "output_type": "stream",
     "text": [
      "--2025-05-18 15:29:53--  https://d37ci6vzurychx.cloudfront.net/trip-data/green_tripdata_2021-01.parquet\n",
      "Resolving d37ci6vzurychx.cloudfront.net (d37ci6vzurychx.cloudfront.net)... 3.164.82.160, 3.164.82.112, 3.164.82.40, ...\n",
      "Connecting to d37ci6vzurychx.cloudfront.net (d37ci6vzurychx.cloudfront.net)|3.164.82.160|:443... connected.\n",
      "HTTP request sent, awaiting response... 200 OK\n",
      "Length: 1333519 (1.3M) [binary/octet-stream]\n",
      "Saving to: ‘green_tripdata_2021-01.parquet’\n",
      "\n",
      "green_tripdata_2021 100%[===================>]   1.27M  2.14MB/s    in 0.6s    \n",
      "\n",
      "2025-05-18 15:29:55 (2.14 MB/s) - ‘green_tripdata_2021-01.parquet’ saved [1333519/1333519]\n",
      "\n"
     ]
    }
   ],
   "source": [
    "!wget 'https://d37ci6vzurychx.cloudfront.net/trip-data/green_tripdata_2021-01.parquet'"
   ]
  },
  {
   "cell_type": "code",
   "execution_count": 5,
   "id": "eae761be",
   "metadata": {
    "scrolled": true
   },
   "outputs": [
    {
     "name": "stdout",
     "output_type": "stream",
     "text": [
      "--2025-05-18 15:30:29--  https://d37ci6vzurychx.cloudfront.net/trip-data/green_tripdata_2021-02.parquet\n",
      "Resolving d37ci6vzurychx.cloudfront.net (d37ci6vzurychx.cloudfront.net)... 3.164.82.40, 3.164.82.160, 3.164.82.112, ...\n",
      "Connecting to d37ci6vzurychx.cloudfront.net (d37ci6vzurychx.cloudfront.net)|3.164.82.40|:443... connected.\n",
      "HTTP request sent, awaiting response... 200 OK\n",
      "Length: 1145679 (1.1M) [binary/octet-stream]\n",
      "Saving to: ‘green_tripdata_2021-02.parquet’\n",
      "\n",
      "green_tripdata_2021 100%[===================>]   1.09M  1.91MB/s    in 0.6s    \n",
      "\n",
      "2025-05-18 15:30:30 (1.91 MB/s) - ‘green_tripdata_2021-02.parquet’ saved [1145679/1145679]\n",
      "\n"
     ]
    }
   ],
   "source": [
    "!wget 'https://d37ci6vzurychx.cloudfront.net/trip-data/green_tripdata_2021-02.parquet'"
   ]
  },
  {
   "cell_type": "code",
   "execution_count": 7,
   "id": "41489188",
   "metadata": {},
   "outputs": [
    {
     "name": "stdout",
     "output_type": "stream",
     "text": [
      "Requirement already satisfied: pyarrow in /home/codespace/anaconda3/lib/python3.9/site-packages (20.0.0)\r\n"
     ]
    }
   ],
   "source": [
    "!pip install pyarrow"
   ]
  },
  {
   "cell_type": "code",
   "execution_count": 37,
   "id": "9e40c956",
   "metadata": {},
   "outputs": [],
   "source": [
    "train_dicts = df[categorical + numerical].to_dict(orient='records')\n",
    "\n",
    "dv = DictVectorizer()\n",
    "X_train = dv.fit_transform(train_dicts)\n",
    "\n",
    "target = 'duration'\n",
    "y_train = df[target].values\n",
    "\n",
    "lr = LinearRegression()\n",
    "lr.fit(X_train, y_train)\n",
    "\n",
    "y_pred = lr.predict(X_train)\n",
    "\n",
    "mean_squared_error(y_train, y_pred, squared=False)"
   ]
  },
  {
   "cell_type": "code",
   "execution_count": 44,
   "id": "defbbc90",
   "metadata": {},
   "outputs": [
    {
     "data": {
      "text/plain": [
       "array([19.76666667, 20.73333333,  8.16666667, 12.98333333,  5.31666667,\n",
       "        1.26666667,  1.6       ,  5.03333333,  1.86666667,  6.38333333,\n",
       "       34.71666667,  1.35      , 27.23333333,  9.11666667, 26.23333333,\n",
       "       28.75      , 22.01666667, 21.85      , 20.96666667, 21.61666667,\n",
       "        9.26666667, 22.63333333, 25.41666667,  1.2       , 16.7       ,\n",
       "       49.2       ,  7.35      , 14.16666667, 13.58333333, 24.06666667,\n",
       "       24.2       , 27.21666667, 19.61666667, 12.71666667, 18.83333333,\n",
       "        6.26666667,  2.53333333, 13.26666667,  7.63333333, 54.71666667,\n",
       "        3.75      ,  4.15      ,  3.65      , 10.26666667,  5.6       ,\n",
       "        2.93333333, 33.95      ,  6.53333333, 10.08333333, 21.96666667,\n",
       "       30.96666667,  5.78333333, 11.05      ,  7.35      , 18.15      ,\n",
       "       10.25      ,  1.95      ,  1.95      , 38.2       , 12.3       ,\n",
       "       14.03333333, 16.91666667,  3.83333333, 14.31666667,  7.01666667,\n",
       "       19.56666667,  6.41666667, 38.48333333, 34.98333333, 10.38333333,\n",
       "       17.2       ,  3.46666667,  7.38333333, 36.03333333,  1.23333333,\n",
       "        8.86666667, 35.21666667,  1.53333333,  1.06666667,  1.01666667,\n",
       "       16.41666667, 23.56666667, 17.61666667, 34.33333333,  7.43333333,\n",
       "        7.05      , 22.13333333,  4.48333333, 13.35      ,  4.66666667,\n",
       "       15.16666667, 35.        ,  2.06666667, 17.46666667, 10.55      ,\n",
       "        6.43333333,  4.3       , 25.18333333, 23.36666667, 10.93333333,\n",
       "       14.35      , 20.73333333, 54.13333333,  1.23333333,  6.13333333,\n",
       "       12.86666667, 30.43333333,  8.45      , 14.86666667, 22.76666667,\n",
       "       16.13333333, 10.73333333,  3.25      , 15.13333333, 13.91666667,\n",
       "        6.43333333, 34.31666667,  4.93333333,  5.9       ,  9.75      ,\n",
       "       13.41666667, 17.63333333, 12.9       , 14.1       ,  5.95      ,\n",
       "       10.21666667, 15.95      , 14.56666667, 16.8       , 18.56666667,\n",
       "       14.43333333,  1.21666667, 18.36666667, 26.38333333,  1.05      ,\n",
       "       29.06666667,  8.85      ,  7.83333333, 11.88333333, 16.45      ,\n",
       "        5.31666667, 13.01666667, 29.15      ,  7.03333333,  2.45      ,\n",
       "        8.55      ,  1.55      ,  9.7       , 15.98333333, 13.06666667,\n",
       "        4.48333333, 39.16666667, 19.95      ,  5.76666667,  3.38333333,\n",
       "       25.46666667, 17.35      ,  8.93333333, 14.48333333, 17.43333333,\n",
       "       39.38333333, 31.1       ,  1.46666667, 32.25      ,  3.01666667,\n",
       "        1.66666667,  1.66666667, 10.4       , 11.46666667, 14.51666667,\n",
       "        1.01666667,  1.9       ,  9.43333333, 15.21666667, 23.75      ,\n",
       "       11.5       , 11.2       ,  5.88333333, 11.51666667, 11.73333333,\n",
       "        1.76666667, 22.9       , 19.33333333,  2.08333333,  5.11666667,\n",
       "        7.33333333, 12.25      , 16.        , 26.4       ,  9.1       ,\n",
       "       13.88333333, 25.83333333, 19.58333333, 38.01666667, 13.25      ,\n",
       "       10.68333333, 20.66666667,  6.9       ,  6.8       ,  7.33333333,\n",
       "        6.15      , 28.45      ,  2.38333333, 13.28333333, 14.15      ,\n",
       "       13.65      ,  8.4       ,  9.86666667, 21.98333333, 33.51666667,\n",
       "       21.4       ,  7.48333333, 14.25      , 11.21666667, 12.08333333,\n",
       "       17.8       , 16.35      , 13.76666667,  7.05      ,  4.93333333,\n",
       "       35.81666667, 18.48333333,  3.5       , 23.35      ,  2.65      ,\n",
       "       52.18333333,  1.83333333,  6.01666667,  5.6       , 10.38333333,\n",
       "       20.76666667,  1.6       , 12.78333333, 22.1       , 12.7       ,\n",
       "        1.36666667, 27.96666667,  2.41666667, 32.91666667, 21.76666667,\n",
       "       17.96666667, 40.15      ,  7.53333333,  7.03333333,  2.5       ,\n",
       "       29.16666667, 20.46666667, 35.9       ,  1.03333333, 39.28333333,\n",
       "       20.75      , 30.81666667, 13.4       , 10.33333333,  9.1       ,\n",
       "       49.4       , 10.43333333,  9.21666667,  9.25      , 10.31666667,\n",
       "       10.31666667,  9.51666667,  3.1       ,  1.3       , 16.18333333,\n",
       "       18.66666667,  1.41666667,  2.31666667, 25.35      ,  7.4       ,\n",
       "       29.06666667,  6.9       , 18.43333333, 17.13333333, 15.11666667,\n",
       "       30.58333333, 22.4       ,  3.98333333,  1.35      ,  7.93333333,\n",
       "       19.73333333,  9.38333333, 13.25      ,  2.53333333,  8.06666667,\n",
       "        6.11666667,  8.3       , 12.33333333,  9.73333333, 18.43333333,\n",
       "       24.86666667, 21.7       , 28.3       ,  5.18333333, 14.5       ,\n",
       "       35.53333333, 19.78333333,  6.16666667,  8.95      , 41.05      ,\n",
       "       36.06666667,  4.38333333,  8.41666667,  5.08333333,  2.35      ,\n",
       "       29.2       , 24.81666667, 13.05      , 27.43333333, 22.9       ,\n",
       "       26.86666667,  1.6       , 23.35      , 28.8       ,  7.96666667,\n",
       "       17.58333333,  8.3       , 15.63333333, 21.38333333, 15.33333333,\n",
       "       35.4       , 27.73333333,  3.7       , 12.18333333,  1.96666667,\n",
       "       12.28333333, 30.43333333, 17.86666667,  9.25      , 27.55      ,\n",
       "       16.41666667,  7.53333333, 11.63333333, 13.4       , 13.56666667,\n",
       "        9.13333333, 13.21666667, 25.8       , 22.76666667,  8.        ,\n",
       "        3.58333333, 26.31666667,  8.3       ,  8.88333333, 20.36666667,\n",
       "       22.4       ,  9.41666667, 20.5       ,  6.23333333,  4.01666667,\n",
       "       11.86666667, 12.56666667, 10.2       , 14.23333333,  2.15      ,\n",
       "        2.15      , 11.4       ,  2.43333333, 11.08333333,  5.16666667,\n",
       "        1.13333333,  4.06666667, 14.38333333,  7.41666667, 58.96666667,\n",
       "        8.21666667, 19.01666667,  9.63333333,  4.46666667, 29.38333333,\n",
       "       33.71666667, 17.8       , 22.11666667,  4.25      , 27.53333333,\n",
       "        9.13333333, 31.18333333, 50.65      , 38.63333333,  7.48333333,\n",
       "       10.        ,  2.53333333, 52.9       ,  9.18333333,  7.25      ,\n",
       "       17.26666667, 31.        , 30.85      , 17.11666667, 24.88333333,\n",
       "       15.61666667, 18.08333333, 11.16666667, 15.01666667,  3.46666667,\n",
       "        3.46666667, 39.11666667, 49.7       , 15.46666667, 37.01666667,\n",
       "       30.48333333, 24.95      ,  2.5       , 24.78333333, 19.5       ,\n",
       "        2.76666667, 23.15      ,  2.        , 33.18333333, 33.78333333,\n",
       "       17.6       ,  5.68333333,  4.73333333,  9.53333333,  1.7       ,\n",
       "       18.28333333, 50.18333333,  1.25      ,  6.65      , 43.85      ,\n",
       "       21.5       , 15.2       ,  9.21666667,  2.68333333,  8.4       ,\n",
       "       47.85      , 30.31666667, 19.38333333, 18.18333333, 25.75      ,\n",
       "       18.7       , 15.45      ,  6.95      ,  9.9       ,  1.5       ,\n",
       "        7.81666667,  3.4       ,  6.71666667, 19.16666667, 19.16666667,\n",
       "        9.11666667, 19.38333333, 20.66666667,  1.88333333, 17.2       ,\n",
       "        1.3       , 23.2       ,  7.75      ,  1.01666667, 36.35      ,\n",
       "       20.51666667,  4.88333333, 16.38333333,  9.68333333, 13.63333333,\n",
       "       26.98333333,  8.18333333,  7.86666667, 14.58333333, 18.81666667,\n",
       "       29.26666667,  7.8       , 34.66666667,  1.03333333,  6.61666667,\n",
       "       26.48333333, 27.18333333,  7.96666667, 19.08333333, 30.51666667,\n",
       "       14.61666667, 35.56666667, 29.3       , 33.56666667, 23.05      ,\n",
       "       33.8       , 15.        , 18.8       , 22.8       , 18.16666667,\n",
       "       16.11666667,  9.23333333,  7.03333333, 16.56666667,  5.78333333,\n",
       "        7.45      ,  8.46666667,  9.33333333,  4.93333333,  4.93333333,\n",
       "        5.68333333, 15.45      , 10.88333333, 19.38333333, 21.71666667,\n",
       "        1.16666667,  6.81666667,  6.23333333, 12.75      , 23.33333333,\n",
       "       27.91666667,  8.53333333, 18.5       , 27.93333333, 21.65      ,\n",
       "       37.66666667, 28.53333333, 18.33333333, 16.96666667,  5.36666667,\n",
       "       12.98333333, 14.6       ,  2.76666667, 13.56666667,  1.36666667,\n",
       "        1.36666667,  1.16666667,  9.63333333,  9.81666667, 12.18333333,\n",
       "       10.55      ,  1.6       , 16.15      ,  3.15      , 25.55      ,\n",
       "        8.35      , 18.06666667, 20.6       , 19.85      ,  8.86666667,\n",
       "        5.01666667, 20.25      ,  3.58333333,  1.63333333, 32.33333333,\n",
       "       10.3       , 18.85      ,  9.03333333, 17.25      ,  1.41666667,\n",
       "        5.91666667, 34.25      ,  1.5       , 47.95      , 10.3       ,\n",
       "       55.73333333, 41.83333333,  4.56666667, 17.01666667,  4.61666667,\n",
       "       55.01666667, 14.98333333, 13.2       ,  6.8       ,  5.73333333,\n",
       "       54.85      ,  1.01666667,  9.2       , 15.78333333, 23.23333333,\n",
       "       15.        ,  2.35      ,  4.96666667, 34.11666667, 25.8       ,\n",
       "       11.98333333,  9.6       ,  1.35      ,  9.33333333, 22.11666667,\n",
       "       19.36666667,  8.95      ,  1.03333333,  5.78333333, 43.38333333,\n",
       "        9.61666667,  2.06666667,  2.93333333, 13.1       ,  1.21666667,\n",
       "       13.43333333,  9.3       , 10.96666667, 11.4       ,  5.86666667,\n",
       "        2.16666667, 29.4       ,  1.1       ,  4.2       , 21.81666667,\n",
       "       22.        ,  1.46666667,  9.93333333, 21.93333333, 43.8       ,\n",
       "       15.28333333,  7.23333333, 19.81666667,  9.25      ,  1.81666667,\n",
       "        3.55      ,  3.23333333,  7.3       ,  7.68333333,  3.78333333,\n",
       "        1.03333333,  8.91666667, 13.81666667, 11.05      , 19.08333333,\n",
       "       32.28333333,  1.16666667, 11.03333333, 20.58333333,  4.81666667,\n",
       "       31.35      ,  7.28333333, 37.91666667, 19.65      ,  4.53333333,\n",
       "       19.4       , 14.        ,  7.93333333,  9.23333333,  7.68333333,\n",
       "       14.08333333,  7.41666667, 18.65      ,  1.36666667,  6.16666667,\n",
       "        2.88333333, 20.01666667,  1.33333333, 11.73333333, 20.51666667,\n",
       "       25.86666667, 17.9       ,  9.45      , 35.03333333, 23.15      ])"
      ]
     },
     "execution_count": 44,
     "metadata": {},
     "output_type": "execute_result"
    }
   ],
   "source": [
    "y_train"
   ]
  },
  {
   "cell_type": "code",
   "execution_count": 47,
   "id": "eea53475",
   "metadata": {},
   "outputs": [
    {
     "data": {
      "text/plain": [
       "LinearRegression()"
      ]
     },
     "execution_count": 47,
     "metadata": {},
     "output_type": "execute_result"
    }
   ],
   "source": []
  },
  {
   "cell_type": "code",
   "execution_count": 48,
   "id": "8e27192d",
   "metadata": {},
   "outputs": [],
   "source": []
  },
  {
   "cell_type": "code",
   "execution_count": 50,
   "id": "ebd35fdb",
   "metadata": {},
   "outputs": [
    {
     "name": "stderr",
     "output_type": "stream",
     "text": [
      "/home/codespace/anaconda3/lib/python3.9/site-packages/seaborn/distributions.py:2619: FutureWarning: `distplot` is a deprecated function and will be removed in a future version. Please adapt your code to use either `displot` (a figure-level function with similar flexibility) or `histplot` (an axes-level function for histograms).\n",
      "  warnings.warn(msg, FutureWarning)\n",
      "/home/codespace/anaconda3/lib/python3.9/site-packages/seaborn/distributions.py:2619: FutureWarning: `distplot` is a deprecated function and will be removed in a future version. Please adapt your code to use either `displot` (a figure-level function with similar flexibility) or `histplot` (an axes-level function for histograms).\n",
      "  warnings.warn(msg, FutureWarning)\n"
     ]
    },
    {
     "data": {
      "text/plain": [
       "<matplotlib.legend.Legend at 0x75a5b0e33d90>"
      ]
     },
     "execution_count": 50,
     "metadata": {},
     "output_type": "execute_result"
    },
    {
     "data": {
      "image/png": "[encoded data removed]",
      "text/plain": [
       "<Figure size 432x288 with 1 Axes>"
      ]
     },
     "metadata": {
      "needs_background": "light"
     },
     "output_type": "display_data"
    }
   ],
   "source": [
    "sns.distplot(y_pred, label='prediction')\n",
    "sns.distplot(y_train, label='actual')\n",
    "\n",
    "plt.legend()"
   ]
  },
  {
   "cell_type": "code",
   "execution_count": 52,
   "id": "942a6363",
   "metadata": {},
   "outputs": [
    {
     "data": {
      "text/plain": [
       "4.803125833985128"
      ]
     },
     "execution_count": 52,
     "metadata": {},
     "output_type": "execute_result"
    }
   ],
   "source": []
  },
  {
   "cell_type": "code",
   "execution_count": 8,
   "id": "34354960",
   "metadata": {},
   "outputs": [],
   "source": [
    "def read_dataframe(filename):\n",
    "    df = pd.read_parquet(filename)\n",
    "    df.lpep_dropoff_datetime = pd.to_datetime(df.lpep_dropoff_datetime)\n",
    "    df.lpep_pickup_datetime = pd.to_datetime(df.lpep_pickup_datetime)\n",
    "\n",
    "\n",
    "    df['duration'] = df.lpep_dropoff_datetime - df.lpep_pickup_datetime\n",
    "    df.duration = df.duration.apply(lambda td: td.total_seconds() / 60)\n",
    "\n",
    "    df = df[(df.duration >= 1) & (df.duration <= 60)]\n",
    "\n",
    "    categorical = ['PULocationID', 'DOLocationID']\n",
    "\n",
    "    df[categorical] = df[categorical].astype(str)\n",
    "    \n",
    "    return df"
   ]
  },
  {
   "cell_type": "code",
   "execution_count": 14,
   "id": "fb597ef1",
   "metadata": {},
   "outputs": [],
   "source": [
    "df_train = read_dataframe('green_tripdata_2021-01.parquet')\n",
    "df_val = read_dataframe('green_tripdata_2021-02.parquet')"
   ]
  },
  {
   "cell_type": "code",
   "execution_count": 15,
   "id": "23efff9d",
   "metadata": {},
   "outputs": [
    {
     "data": {
      "text/plain": [
       "(73908, 61921)"
      ]
     },
     "execution_count": 15,
     "metadata": {},
     "output_type": "execute_result"
    }
   ],
   "source": [
    "len(df_train), len(df_val)"
   ]
  },
  {
   "cell_type": "code",
   "execution_count": 33,
   "id": "ec7a0c65",
   "metadata": {},
   "outputs": [],
   "source": [
    "df_train['PU_DO'] = df_train['PULocationID'] + '_' + df_train['DOLocationID']\n",
    "df_val['PU_DO'] = df_val['PULocationID'] + '_' + df_val['DOLocationID']"
   ]
  },
  {
   "cell_type": "code",
   "execution_count": 34,
   "id": "dc1aacba",
   "metadata": {},
   "outputs": [],
   "source": [
    "categorical = ['PU_DO']\n",
    "numerical = ['trip_distance']\n",
    "\n",
    "dv = DictVectorizer()\n",
    "\n",
    "train_dicts = df_train[categorical + numerical].to_dict(orient='records')\n",
    "X_train = dv.fit_transform(train_dicts)\n",
    "\n",
    "val_dicts = df_val[categorical + numerical].to_dict(orient='records')\n",
    "X_val = dv.transform(val_dicts)\n",
    "\n"
   ]
  },
  {
   "cell_type": "code",
   "execution_count": 17,
   "id": "176b4d24",
   "metadata": {},
   "outputs": [],
   "source": [
    "target = 'duration'\n",
    "y_train = df_train[target].values\n",
    "y_val = df_val[target].values"
   ]
  },
  {
   "cell_type": "code",
   "execution_count": 35,
   "id": "9d703551",
   "metadata": {},
   "outputs": [
    {
     "data": {
      "text/plain": [
       "7.479562160810692"
      ]
     },
     "execution_count": 35,
     "metadata": {},
     "output_type": "execute_result"
    }
   ],
   "source": [
    "lr = LinearRegression()\n",
    "lr.fit(X_train, y_train)\n",
    "\n",
    "y_pred = lr.predict(X_val)\n",
    "\n",
    "\n",
    "\n",
    "mean_squared_error(y_val, y_pred, squared=False)"
   ]
  },
  {
   "cell_type": "code",
   "execution_count": null,
   "id": "0f0f07e0",
   "metadata": {},
   "outputs": [],
   "source": [
    "lr = Lasso(alpha=0.00001)\n",
    "lr.fit(X_train, y_train)\n",
    "\n",
    "y_pred = lr.predict(X_train)\n",
    "\n",
    "\n",
    "\n",
    "mean_squared_error(y_train, y_pred, squared=False)"
   ]
  },
  {
   "cell_type": "code",
   "execution_count": null,
   "id": "38619485",
   "metadata": {},
   "outputs": [],
   "source": []
  }
 ],
 "metadata": {
  "kernelspec": {
   "display_name": "Python 3 (ipykernel)",
   "language": "python",
   "name": "python3"
  },
  "language_info": {
   "codemirror_mode": {
    "name": "ipython",
    "version": 3
   },
   "file_extension": ".py",
   "mimetype": "text/x-python",
   "name": "python",
   "nbconvert_exporter": "python",
   "pygments_lexer": "ipython3",
   "version": "3.9.12"
  }
 },
 "nbformat": 4,
 "nbformat_minor": 5
}
